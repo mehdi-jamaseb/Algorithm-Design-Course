{
  "cells": [
    {
      "cell_type": "markdown",
      "metadata": {
        "id": "w8OcbzG0vXTN"
      },
      "source": [
        "## KNN Model Project\n",
        "using iris dataset, we implente KNN evaluation model."
      ]
    },
    {
      "cell_type": "markdown",
      "metadata": {
        "id": "4YjTDCMTvXTS"
      },
      "source": [
        "### Import libs"
      ]
    },
    {
      "cell_type": "code",
      "execution_count": 1,
      "metadata": {
        "id": "eo-ean1zvXTT"
      },
      "outputs": [],
      "source": [
        "from sklearn.datasets import load_iris,load_wine\n",
        "from sklearn.model_selection import train_test_split\n",
        "import numpy as np"
      ]
    },
    {
      "cell_type": "markdown",
      "metadata": {
        "id": "bZAqJJn7vXTV"
      },
      "source": [
        "### Load datates"
      ]
    },
    {
      "cell_type": "code",
      "execution_count": 2,
      "metadata": {
        "id": "mRKHLBwcvXTW"
      },
      "outputs": [],
      "source": [
        "dataset = load_iris() # or load_wine()\n",
        "\n",
        "x = dataset.data   # Features\n",
        "y = dataset.target # Target Labels\n",
        "x_train, x_test, y_train, y_test = train_test_split(x, y, test_size=0.2) # 20% test & 80% for train\n"
      ]
    },
    {
      "cell_type": "markdown",
      "metadata": {
        "id": "1fxtMLFqvXTX"
      },
      "source": [
        "### Normalizing data\n",
        "a function that turn array data to number bitween 0 and 1."
      ]
    },
    {
      "cell_type": "code",
      "execution_count": 42,
      "metadata": {
        "id": "j-GIpWrhvXTX"
      },
      "outputs": [],
      "source": [
        "def normalize(array, min_number= None, max_number= None):\n",
        "    array = np.array(array)\n",
        "    min_number = array.min(axis=0) if (min_number is None) else  min_number\n",
        "    max_number = array.max(axis=0) if (max_number is None) else  max_number\n",
        "    normalized_array = (array - min_number) / (max_number - min_number)\n",
        "    return normalized_array, min_number, max_number\n",
        "\n",
        "# a = np.array([[1, 2, 3, 4,5]])\n",
        "# b = np.array([[0, 5, 4, 7], [5, 3, 1, 5]])\n",
        "\n",
        "# normalize(a)\n",
        "# normalize(b)"
      ]
    },
    {
      "cell_type": "markdown",
      "metadata": {
        "id": "LCgBOJ5WvXTZ"
      },
      "source": [
        "## Predicting\n"
      ]
    },
    {
      "cell_type": "markdown",
      "metadata": {
        "id": "ZUBE8ChMvXTa"
      },
      "source": [
        "### Calculate Distances\n",
        "calculate distances beetween test array data and every train array data"
      ]
    },
    {
      "cell_type": "code",
      "execution_count": 19,
      "metadata": {
        "id": "gCqqObo9vXTa"
      },
      "outputs": [],
      "source": [
        "def calc_distance(array1, array2):\n",
        "    return np.sqrt(((array1 - array2) ** 2).sum(axis=1))\n",
        "\n",
        "# a = np.array([2, 3, 4, 5])\n",
        "# b = np.array([6, 4, 7, 2])\n",
        "\n",
        "# calc_distance(a, b)"
      ]
    },
    {
      "cell_type": "markdown",
      "metadata": {
        "id": "4jVF_i11vXTb"
      },
      "source": [
        "### Nearest Labels & Most Comman Label"
      ]
    },
    {
      "cell_type": "code",
      "execution_count": 18,
      "metadata": {
        "id": "k15k08DuvXTb"
      },
      "outputs": [],
      "source": [
        "def nearest_labels(k, distance_list):\n",
        "    nearest_labels = np.argpartition(distance_list, k - 1)[:k]\n",
        "    return nearest_labels\n",
        "\n",
        "\n",
        "\n",
        "# k = 3\n",
        "# distance_list = [0.555, 0.6666, 0.89888, 0.78444]\n",
        "# print(nearest_labels(k, distance_list))\n",
        "\n",
        "\n",
        "def most_comman_label(labels_indexes, y_train):\n",
        "    labels = [y_train[i] for i in labels_indexes]\n",
        "    most_common_label = np.bincount(labels).argmax()\n",
        "    return most_common_label\n",
        "\n",
        "\n",
        "\n",
        "# labels = [1, 3, 2]\n",
        "# print(most_comman_label(labels))"
      ]
    },
    {
      "cell_type": "markdown",
      "metadata": {
        "id": "Jre0QnkzvXTc"
      },
      "source": [
        "### KNN Model Predict\n",
        "predicting labels using knn model."
      ]
    },
    {
      "cell_type": "code",
      "execution_count": 49,
      "metadata": {
        "id": "7KNM34UXvXTc"
      },
      "outputs": [],
      "source": [
        "def knn_predict(x_train, y_train, x_test, k=1):\n",
        "    y_pred = []\n",
        "    for sample_test in x_test:\n",
        "        np_dist = calc_distance(sample_test, x_train)\n",
        "        labels_indexes = nearest_labels(k, np_dist)\n",
        "        most_common_label = most_comman_label(labels_indexes, y_train)\n",
        "        y_pred.append(most_common_label)\n",
        "\n",
        "    return y_pred\n",
        "\n",
        "\n",
        "# test_x_train = np.array([[2, 3, 1, 5], [4, 3, 1, 2], [1, 6, 7, 4], [4, 4, 3, 2]])\n",
        "# test_y_train = np.array([1, 2, 3, 1, 1, 2, 3, 3, 2, 1])\n",
        "# x_test = np.array([[4, 3, 2, 1], [5, 4, 3, 1]])\n",
        "# k = 3\n",
        "# y_pred = knn_predict(test_x_train, test_y_train, x_test, k)\n",
        "# y_pred = knn_predict(x_train, y_train, x_test, 3)\n",
        "\n"
      ]
    },
    {
      "cell_type": "markdown",
      "metadata": {
        "id": "0M0Qs9BvvXTd"
      },
      "source": [
        "### Accuracy Score"
      ]
    },
    {
      "cell_type": "code",
      "execution_count": 22,
      "metadata": {
        "id": "9wYToNcUvXTd"
      },
      "outputs": [],
      "source": [
        "def accuracy_score(y_pred):\n",
        "    np_predicts = np.array(y_pred)\n",
        "    acc = (np_predicts == y_test).mean() * 100\n",
        "    return acc"
      ]
    },
    {
      "cell_type": "markdown",
      "metadata": {
        "id": "gBjPdkyXvXTd"
      },
      "source": [
        "### Log the Accuracy score and Labels"
      ]
    },
    {
      "cell_type": "code",
      "source": [
        "normalized_x_train,min_train, max_train = normalize(x_train)\n",
        "normalized_x_test,_,_ = normalize(x_test,min_train, max_train)\n",
        "normalized_x_test"
      ],
      "metadata": {
        "id": "HlP7Nelk8MQW",
        "outputId": "c9977dc9-fb03-4f16-f643-68f6a90f84fe",
        "colab": {
          "base_uri": "https://localhost:8080/"
        }
      },
      "execution_count": 47,
      "outputs": [
        {
          "output_type": "execute_result",
          "data": {
            "text/plain": [
              "array([[0.19444444, 0.72727273, 0.06779661, 0.04166667],\n",
              "       [0.19444444, 0.63636364, 0.10169492, 0.125     ],\n",
              "       [0.80555556, 0.45454545, 0.81355932, 0.625     ],\n",
              "       [0.94444444, 0.45454545, 0.86440678, 0.91666667],\n",
              "       [0.44444444, 0.45454545, 0.54237288, 0.58333333],\n",
              "       [0.38888889, 1.09090909, 0.08474576, 0.125     ],\n",
              "       [0.25      , 0.63636364, 0.06779661, 0.04166667],\n",
              "       [0.69444444, 0.54545455, 0.83050847, 0.91666667],\n",
              "       [0.33333333, 0.27272727, 0.57627119, 0.45833333],\n",
              "       [0.61111111, 0.45454545, 0.71186441, 0.79166667],\n",
              "       [0.55555556, 0.40909091, 0.77966102, 0.70833333],\n",
              "       [0.16666667, 0.5       , 0.08474576, 0.04166667],\n",
              "       [0.38888889, 0.45454545, 0.54237288, 0.45833333],\n",
              "       [0.02777778, 0.40909091, 0.06779661, 0.04166667],\n",
              "       [0.44444444, 0.54545455, 0.6440678 , 0.70833333],\n",
              "       [0.58333333, 0.31818182, 0.72881356, 0.75      ],\n",
              "       [0.94444444, 0.36363636, 0.96610169, 0.79166667],\n",
              "       [0.69444444, 0.45454545, 0.76271186, 0.83333333],\n",
              "       [0.66666667, 0.22727273, 0.81355932, 0.70833333],\n",
              "       [0.5       , 0.36363636, 0.50847458, 0.5       ],\n",
              "       [0.19444444, 0.68181818, 0.10169492, 0.20833333],\n",
              "       [0.58333333, 0.36363636, 0.77966102, 0.83333333],\n",
              "       [0.66666667, 0.59090909, 0.79661017, 0.83333333],\n",
              "       [0.47222222, 0.09090909, 0.6779661 , 0.58333333],\n",
              "       [0.19444444, 0.59090909, 0.06779661, 0.04166667],\n",
              "       [0.72222222, 0.54545455, 0.79661017, 0.91666667],\n",
              "       [0.33333333, 0.68181818, 0.05084746, 0.04166667],\n",
              "       [0.75      , 0.54545455, 0.62711864, 0.54166667],\n",
              "       [0.13888889, 0.5       , 0.10169492, 0.04166667],\n",
              "       [0.16666667, 0.18181818, 0.38983051, 0.375     ]])"
            ]
          },
          "metadata": {},
          "execution_count": 47
        }
      ]
    },
    {
      "cell_type": "code",
      "execution_count": 50,
      "metadata": {
        "id": "r7lN_UR7vXTe",
        "outputId": "1b4c8cf0-8703-4d21-aa5a-acd93b67de03",
        "colab": {
          "base_uri": "https://localhost:8080/",
          "height": 54
        }
      },
      "outputs": [
        {
          "output_type": "stream",
          "name": "stdout",
          "text": [
            "<class 'numpy.ndarray'>\n"
          ]
        },
        {
          "output_type": "execute_result",
          "data": {
            "text/plain": [
              "'accuracy: 93%'"
            ],
            "application/vnd.google.colaboratory.intrinsic+json": {
              "type": "string"
            }
          },
          "metadata": {},
          "execution_count": 50
        }
      ],
      "source": [
        "y_pred = knn_predict(normalized_x_train, y_train, normalized_x_test, 3)\n",
        "accuracy = accuracy_score(y_pred)\n",
        "f\"accuracy: {int(accuracy)}%\""
      ]
    }
  ],
  "metadata": {
    "kernelspec": {
      "display_name": ".venv",
      "language": "python",
      "name": "python3"
    },
    "language_info": {
      "codemirror_mode": {
        "name": "ipython",
        "version": 3
      },
      "file_extension": ".py",
      "mimetype": "text/x-python",
      "name": "python",
      "nbconvert_exporter": "python",
      "pygments_lexer": "ipython3",
      "version": "3.12.3"
    },
    "colab": {
      "provenance": []
    }
  },
  "nbformat": 4,
  "nbformat_minor": 0
}